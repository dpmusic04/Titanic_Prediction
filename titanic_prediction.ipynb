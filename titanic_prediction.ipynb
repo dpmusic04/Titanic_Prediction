{
 "cells": [
  {
   "cell_type": "code",
   "execution_count": 268,
   "metadata": {},
   "outputs": [
    {
     "name": "stdout",
     "output_type": "stream",
     "text": [
      "Requirement already satisfied: scikit-learn in c:\\users\\joeyp\\appdata\\local\\programs\\python\\python38\\lib\\site-packages (1.2.0)\n",
      "Requirement already satisfied: scipy>=1.3.2 in c:\\users\\joeyp\\appdata\\local\\programs\\python\\python38\\lib\\site-packages (from scikit-learn) (1.10.0)\n",
      "Requirement already satisfied: numpy>=1.17.3 in c:\\users\\joeyp\\appdata\\local\\programs\\python\\python38\\lib\\site-packages (from scikit-learn) (1.24.1)\n",
      "Requirement already satisfied: threadpoolctl>=2.0.0 in c:\\users\\joeyp\\appdata\\local\\programs\\python\\python38\\lib\\site-packages (from scikit-learn) (3.1.0)\n",
      "Requirement already satisfied: joblib>=1.1.1 in c:\\users\\joeyp\\appdata\\local\\programs\\python\\python38\\lib\\site-packages (from scikit-learn) (1.2.0)\n"
     ]
    },
    {
     "name": "stderr",
     "output_type": "stream",
     "text": [
      "WARNING: You are using pip version 21.1.1; however, version 22.3.1 is available.\n",
      "You should consider upgrading via the 'c:\\users\\joeyp\\appdata\\local\\programs\\python\\python38\\python.exe -m pip install --upgrade pip' command.\n"
     ]
    },
    {
     "name": "stdout",
     "output_type": "stream",
     "text": [
      "Requirement already satisfied: matplotlib in c:\\users\\joeyp\\appdata\\local\\programs\\python\\python38\\lib\\site-packages (3.6.3)\n",
      "Requirement already satisfied: cycler>=0.10 in c:\\users\\joeyp\\appdata\\local\\programs\\python\\python38\\lib\\site-packages (from matplotlib) (0.11.0)\n",
      "Requirement already satisfied: kiwisolver>=1.0.1 in c:\\users\\joeyp\\appdata\\local\\programs\\python\\python38\\lib\\site-packages (from matplotlib) (1.4.4)\n",
      "Requirement already satisfied: pyparsing>=2.2.1 in c:\\users\\joeyp\\appdata\\local\\programs\\python\\python38\\lib\\site-packages (from matplotlib) (3.0.9)\n",
      "Requirement already satisfied: packaging>=20.0 in c:\\users\\joeyp\\appdata\\local\\programs\\python\\python38\\lib\\site-packages (from matplotlib) (23.0)\n",
      "Requirement already satisfied: fonttools>=4.22.0 in c:\\users\\joeyp\\appdata\\local\\programs\\python\\python38\\lib\\site-packages (from matplotlib) (4.38.0)\n",
      "Requirement already satisfied: numpy>=1.19 in c:\\users\\joeyp\\appdata\\local\\programs\\python\\python38\\lib\\site-packages (from matplotlib) (1.24.1)\n",
      "Requirement already satisfied: contourpy>=1.0.1 in c:\\users\\joeyp\\appdata\\local\\programs\\python\\python38\\lib\\site-packages (from matplotlib) (1.0.7)\n",
      "Requirement already satisfied: pillow>=6.2.0 in c:\\users\\joeyp\\appdata\\local\\programs\\python\\python38\\lib\\site-packages (from matplotlib) (9.4.0)\n",
      "Requirement already satisfied: python-dateutil>=2.7 in c:\\users\\joeyp\\appdata\\local\\programs\\python\\python38\\lib\\site-packages (from matplotlib) (2.8.2)\n",
      "Requirement already satisfied: six>=1.5 in c:\\users\\joeyp\\appdata\\local\\programs\\python\\python38\\lib\\site-packages (from python-dateutil>=2.7->matplotlib) (1.16.0)\n"
     ]
    },
    {
     "name": "stderr",
     "output_type": "stream",
     "text": [
      "WARNING: You are using pip version 21.1.1; however, version 22.3.1 is available.\n",
      "You should consider upgrading via the 'c:\\users\\joeyp\\appdata\\local\\programs\\python\\python38\\python.exe -m pip install --upgrade pip' command.\n"
     ]
    },
    {
     "name": "stdout",
     "output_type": "stream",
     "text": [
      "Requirement already satisfied: seaborn in c:\\users\\joeyp\\appdata\\local\\programs\\python\\python38\\lib\\site-packages (0.12.2)\n",
      "Requirement already satisfied: matplotlib!=3.6.1,>=3.1 in c:\\users\\joeyp\\appdata\\local\\programs\\python\\python38\\lib\\site-packages (from seaborn) (3.6.3)\n",
      "Requirement already satisfied: pandas>=0.25 in c:\\users\\joeyp\\appdata\\local\\programs\\python\\python38\\lib\\site-packages (from seaborn) (1.5.2)\n",
      "Requirement already satisfied: numpy!=1.24.0,>=1.17 in c:\\users\\joeyp\\appdata\\local\\programs\\python\\python38\\lib\\site-packages (from seaborn) (1.24.1)\n",
      "Requirement already satisfied: kiwisolver>=1.0.1 in c:\\users\\joeyp\\appdata\\local\\programs\\python\\python38\\lib\\site-packages (from matplotlib!=3.6.1,>=3.1->seaborn) (1.4.4)\n",
      "Requirement already satisfied: packaging>=20.0 in c:\\users\\joeyp\\appdata\\local\\programs\\python\\python38\\lib\\site-packages (from matplotlib!=3.6.1,>=3.1->seaborn) (23.0)\n",
      "Requirement already satisfied: contourpy>=1.0.1 in c:\\users\\joeyp\\appdata\\local\\programs\\python\\python38\\lib\\site-packages (from matplotlib!=3.6.1,>=3.1->seaborn) (1.0.7)\n",
      "Requirement already satisfied: pyparsing>=2.2.1 in c:\\users\\joeyp\\appdata\\local\\programs\\python\\python38\\lib\\site-packages (from matplotlib!=3.6.1,>=3.1->seaborn) (3.0.9)\n",
      "Requirement already satisfied: fonttools>=4.22.0 in c:\\users\\joeyp\\appdata\\local\\programs\\python\\python38\\lib\\site-packages (from matplotlib!=3.6.1,>=3.1->seaborn) (4.38.0)\n",
      "Requirement already satisfied: cycler>=0.10 in c:\\users\\joeyp\\appdata\\local\\programs\\python\\python38\\lib\\site-packages (from matplotlib!=3.6.1,>=3.1->seaborn) (0.11.0)\n",
      "Requirement already satisfied: pillow>=6.2.0 in c:\\users\\joeyp\\appdata\\local\\programs\\python\\python38\\lib\\site-packages (from matplotlib!=3.6.1,>=3.1->seaborn) (9.4.0)\n",
      "Requirement already satisfied: python-dateutil>=2.7 in c:\\users\\joeyp\\appdata\\local\\programs\\python\\python38\\lib\\site-packages (from matplotlib!=3.6.1,>=3.1->seaborn) (2.8.2)\n",
      "Requirement already satisfied: pytz>=2020.1 in c:\\users\\joeyp\\appdata\\local\\programs\\python\\python38\\lib\\site-packages (from pandas>=0.25->seaborn) (2022.7.1)\n",
      "Requirement already satisfied: six>=1.5 in c:\\users\\joeyp\\appdata\\local\\programs\\python\\python38\\lib\\site-packages (from python-dateutil>=2.7->matplotlib!=3.6.1,>=3.1->seaborn) (1.16.0)\n"
     ]
    },
    {
     "name": "stderr",
     "output_type": "stream",
     "text": [
      "WARNING: You are using pip version 21.1.1; however, version 22.3.1 is available.\n",
      "You should consider upgrading via the 'c:\\users\\joeyp\\appdata\\local\\programs\\python\\python38\\python.exe -m pip install --upgrade pip' command.\n"
     ]
    },
    {
     "name": "stdout",
     "output_type": "stream",
     "text": [
      "Requirement already satisfied: regex in c:\\users\\joeyp\\appdata\\local\\programs\\python\\python38\\lib\\site-packages (2022.10.31)\n"
     ]
    },
    {
     "name": "stderr",
     "output_type": "stream",
     "text": [
      "WARNING: You are using pip version 21.1.1; however, version 22.3.1 is available.\n",
      "You should consider upgrading via the 'c:\\users\\joeyp\\appdata\\local\\programs\\python\\python38\\python.exe -m pip install --upgrade pip' command.\n"
     ]
    },
    {
     "name": "stdout",
     "output_type": "stream",
     "text": [
      "Requirement already satisfied: missingno in c:\\users\\joeyp\\appdata\\local\\programs\\python\\python38\\lib\\site-packages (0.5.1)\n",
      "Requirement already satisfied: matplotlib in c:\\users\\joeyp\\appdata\\local\\programs\\python\\python38\\lib\\site-packages (from missingno) (3.6.3)\n",
      "Requirement already satisfied: scipy in c:\\users\\joeyp\\appdata\\local\\programs\\python\\python38\\lib\\site-packages (from missingno) (1.10.0)\n",
      "Requirement already satisfied: seaborn in c:\\users\\joeyp\\appdata\\local\\programs\\python\\python38\\lib\\site-packages (from missingno) (0.12.2)\n",
      "Requirement already satisfied: numpy in c:\\users\\joeyp\\appdata\\local\\programs\\python\\python38\\lib\\site-packages (from missingno) (1.24.1)\n",
      "Requirement already satisfied: fonttools>=4.22.0 in c:\\users\\joeyp\\appdata\\local\\programs\\python\\python38\\lib\\site-packages (from matplotlib->missingno) (4.38.0)\n",
      "Requirement already satisfied: cycler>=0.10 in c:\\users\\joeyp\\appdata\\local\\programs\\python\\python38\\lib\\site-packages (from matplotlib->missingno) (0.11.0)\n",
      "Requirement already satisfied: pillow>=6.2.0 in c:\\users\\joeyp\\appdata\\local\\programs\\python\\python38\\lib\\site-packages (from matplotlib->missingno) (9.4.0)\n",
      "Requirement already satisfied: python-dateutil>=2.7 in c:\\users\\joeyp\\appdata\\local\\programs\\python\\python38\\lib\\site-packages (from matplotlib->missingno) (2.8.2)\n",
      "Requirement already satisfied: kiwisolver>=1.0.1 in c:\\users\\joeyp\\appdata\\local\\programs\\python\\python38\\lib\\site-packages (from matplotlib->missingno) (1.4.4)\n",
      "Requirement already satisfied: packaging>=20.0 in c:\\users\\joeyp\\appdata\\local\\programs\\python\\python38\\lib\\site-packages (from matplotlib->missingno) (23.0)\n",
      "Requirement already satisfied: contourpy>=1.0.1 in c:\\users\\joeyp\\appdata\\local\\programs\\python\\python38\\lib\\site-packages (from matplotlib->missingno) (1.0.7)\n",
      "Requirement already satisfied: pyparsing>=2.2.1 in c:\\users\\joeyp\\appdata\\local\\programs\\python\\python38\\lib\\site-packages (from matplotlib->missingno) (3.0.9)\n",
      "Requirement already satisfied: six>=1.5 in c:\\users\\joeyp\\appdata\\local\\programs\\python\\python38\\lib\\site-packages (from python-dateutil>=2.7->matplotlib->missingno) (1.16.0)\n",
      "Requirement already satisfied: pandas>=0.25 in c:\\users\\joeyp\\appdata\\local\\programs\\python\\python38\\lib\\site-packages (from seaborn->missingno) (1.5.2)\n",
      "Requirement already satisfied: pytz>=2020.1 in c:\\users\\joeyp\\appdata\\local\\programs\\python\\python38\\lib\\site-packages (from pandas>=0.25->seaborn->missingno) (2022.7.1)\n"
     ]
    },
    {
     "name": "stderr",
     "output_type": "stream",
     "text": [
      "WARNING: You are using pip version 21.1.1; however, version 22.3.1 is available.\n",
      "You should consider upgrading via the 'c:\\users\\joeyp\\appdata\\local\\programs\\python\\python38\\python.exe -m pip install --upgrade pip' command.\n"
     ]
    },
    {
     "name": "stdout",
     "output_type": "stream",
     "text": [
      "Requirement already satisfied: matplotlib in c:\\users\\joeyp\\appdata\\local\\programs\\python\\python38\\lib\\site-packages (3.6.3)\n",
      "Requirement already satisfied: contourpy>=1.0.1 in c:\\users\\joeyp\\appdata\\local\\programs\\python\\python38\\lib\\site-packages (from matplotlib) (1.0.7)\n",
      "Requirement already satisfied: pyparsing>=2.2.1 in c:\\users\\joeyp\\appdata\\local\\programs\\python\\python38\\lib\\site-packages (from matplotlib) (3.0.9)\n",
      "Requirement already satisfied: python-dateutil>=2.7 in c:\\users\\joeyp\\appdata\\local\\programs\\python\\python38\\lib\\site-packages (from matplotlib) (2.8.2)\n",
      "Requirement already satisfied: cycler>=0.10 in c:\\users\\joeyp\\appdata\\local\\programs\\python\\python38\\lib\\site-packages (from matplotlib) (0.11.0)\n",
      "Requirement already satisfied: pillow>=6.2.0 in c:\\users\\joeyp\\appdata\\local\\programs\\python\\python38\\lib\\site-packages (from matplotlib) (9.4.0)\n",
      "Requirement already satisfied: numpy>=1.19 in c:\\users\\joeyp\\appdata\\local\\programs\\python\\python38\\lib\\site-packages (from matplotlib) (1.24.1)\n",
      "Requirement already satisfied: fonttools>=4.22.0 in c:\\users\\joeyp\\appdata\\local\\programs\\python\\python38\\lib\\site-packages (from matplotlib) (4.38.0)\n",
      "Requirement already satisfied: kiwisolver>=1.0.1 in c:\\users\\joeyp\\appdata\\local\\programs\\python\\python38\\lib\\site-packages (from matplotlib) (1.4.4)\n",
      "Requirement already satisfied: packaging>=20.0 in c:\\users\\joeyp\\appdata\\local\\programs\\python\\python38\\lib\\site-packages (from matplotlib) (23.0)\n",
      "Requirement already satisfied: six>=1.5 in c:\\users\\joeyp\\appdata\\local\\programs\\python\\python38\\lib\\site-packages (from python-dateutil>=2.7->matplotlib) (1.16.0)\n"
     ]
    },
    {
     "name": "stderr",
     "output_type": "stream",
     "text": [
      "WARNING: You are using pip version 21.1.1; however, version 22.3.1 is available.\n",
      "You should consider upgrading via the 'c:\\users\\joeyp\\appdata\\local\\programs\\python\\python38\\python.exe -m pip install --upgrade pip' command.\n"
     ]
    },
    {
     "name": "stdout",
     "output_type": "stream",
     "text": [
      "Requirement already satisfied: regex in c:\\users\\joeyp\\appdata\\local\\programs\\python\\python38\\lib\\site-packages (2022.10.31)\n"
     ]
    },
    {
     "name": "stderr",
     "output_type": "stream",
     "text": [
      "WARNING: You are using pip version 21.1.1; however, version 22.3.1 is available.\n",
      "You should consider upgrading via the 'c:\\users\\joeyp\\appdata\\local\\programs\\python\\python38\\python.exe -m pip install --upgrade pip' command.\n"
     ]
    },
    {
     "name": "stdout",
     "output_type": "stream",
     "text": [
      "Requirement already satisfied: regex in c:\\users\\joeyp\\appdata\\local\\programs\\python\\python38\\lib\\site-packages (2022.10.31)\n"
     ]
    },
    {
     "name": "stderr",
     "output_type": "stream",
     "text": [
      "WARNING: You are using pip version 21.1.1; however, version 22.3.1 is available.\n",
      "You should consider upgrading via the 'c:\\users\\joeyp\\appdata\\local\\programs\\python\\python38\\python.exe -m pip install --upgrade pip' command.\n"
     ]
    },
    {
     "name": "stdout",
     "output_type": "stream",
     "text": [
      "^C\n",
      "Requirement already satisfied: missingno in c:\\users\\joeyp\\appdata\\local\\programs\\python\\python38\\lib\\site-packages (0.5.1)\n",
      "Requirement already satisfied: seaborn in c:\\users\\joeyp\\appdata\\local\\programs\\python\\python38\\lib\\site-packages (from missingno) (0.12.2)\n",
      "Requirement already satisfied: matplotlib in c:\\users\\joeyp\\appdata\\local\\programs\\python\\python38\\lib\\site-packages (from missingno) (3.6.3)\n",
      "Requirement already satisfied: numpy in c:\\users\\joeyp\\appdata\\local\\programs\\python\\python38\\lib\\site-packages (from missingno) (1.24.1)\n",
      "Requirement already satisfied: scipy in c:\\users\\joeyp\\appdata\\local\\programs\\python\\python38\\lib\\site-packages (from missingno) (1.10.0)\n",
      "Requirement already satisfied: pillow>=6.2.0 in c:\\users\\joeyp\\appdata\\local\\programs\\python\\python38\\lib\\site-packages (from matplotlib->missingno) (9.4.0)\n",
      "Requirement already satisfied: fonttools>=4.22.0 in c:\\users\\joeyp\\appdata\\local\\programs\\python\\python38\\lib\\site-packages (from matplotlib->missingno) (4.38.0)\n",
      "Requirement already satisfied: packaging>=20.0 in c:\\users\\joeyp\\appdata\\local\\programs\\python\\python38\\lib\\site-packages (from matplotlib->missingno) (23.0)\n",
      "Requirement already satisfied: python-dateutil>=2.7 in c:\\users\\joeyp\\appdata\\local\\programs\\python\\python38\\lib\\site-packages (from matplotlib->missingno) (2.8.2)\n",
      "Requirement already satisfied: kiwisolver>=1.0.1 in c:\\users\\joeyp\\appdata\\local\\programs\\python\\python38\\lib\\site-packages (from matplotlib->missingno) (1.4.4)\n",
      "Requirement already satisfied: contourpy>=1.0.1 in c:\\users\\joeyp\\appdata\\local\\programs\\python\\python38\\lib\\site-packages (from matplotlib->missingno) (1.0.7)\n",
      "Requirement already satisfied: pyparsing>=2.2.1 in c:\\users\\joeyp\\appdata\\local\\programs\\python\\python38\\lib\\site-packages (from matplotlib->missingno) (3.0.9)\n",
      "Requirement already satisfied: cycler>=0.10 in c:\\users\\joeyp\\appdata\\local\\programs\\python\\python38\\lib\\site-packages (from matplotlib->missingno) (0.11.0)\n",
      "Requirement already satisfied: six>=1.5 in c:\\users\\joeyp\\appdata\\local\\programs\\python\\python38\\lib\\site-packages (from python-dateutil>=2.7->matplotlib->missingno) (1.16.0)\n",
      "Requirement already satisfied: pandas>=0.25 in c:\\users\\joeyp\\appdata\\local\\programs\\python\\python38\\lib\\site-packages (from seaborn->missingno) (1.5.2)\n",
      "Requirement already satisfied: pytz>=2020.1 in c:\\users\\joeyp\\appdata\\local\\programs\\python\\python38\\lib\\site-packages (from pandas>=0.25->seaborn->missingno) (2022.7.1)\n",
      "Requirement already satisfied: pandas in c:\\users\\joeyp\\appdata\\local\\programs\\python\\python38\\lib\\site-packages (1.5.2)\n",
      "Requirement already satisfied: pytz>=2020.1 in c:\\users\\joeyp\\appdata\\local\\programs\\python\\python38\\lib\\site-packages (from pandas) (2022.7.1)\n",
      "Requirement already satisfied: python-dateutil>=2.8.1 in c:\\users\\joeyp\\appdata\\local\\programs\\python\\python38\\lib\\site-packages (from pandas) (2.8.2)\n",
      "Requirement already satisfied: numpy>=1.20.3 in c:\\users\\joeyp\\appdata\\local\\programs\\python\\python38\\lib\\site-packages (from pandas) (1.24.1)\n",
      "Requirement already satisfied: six>=1.5 in c:\\users\\joeyp\\appdata\\local\\programs\\python\\python38\\lib\\site-packages (from python-dateutil>=2.8.1->pandas) (1.16.0)\n"
     ]
    },
    {
     "name": "stderr",
     "output_type": "stream",
     "text": [
      "WARNING: You are using pip version 21.1.1; however, version 22.3.1 is available.\n",
      "You should consider upgrading via the 'c:\\users\\joeyp\\appdata\\local\\programs\\python\\python38\\python.exe -m pip install --upgrade pip' command.\n",
      "WARNING: You are using pip version 21.1.1; however, version 22.3.1 is available.\n",
      "You should consider upgrading via the 'c:\\users\\joeyp\\appdata\\local\\programs\\python\\python38\\python.exe -m pip install --upgrade pip' command.\n"
     ]
    }
   ],
   "source": [
    "! pip install scikit-learn\n",
    "! pip install matplotlib\n",
    "! pip install seaborn\n",
    "! pip install regex\n",
    "! pip install missingno\n",
    "! pip install matplotlib\n",
    "! pip install regex\n",
    "! pip install regex\n",
    "! pip install missingno\n",
    "! pip install pandas"
   ]
  },
  {
   "cell_type": "code",
   "execution_count": null,
   "metadata": {},
   "outputs": [],
   "source": [
    "import pandas as pd\n",
    "import re\n",
    "import matplotlib.pyplot as plt\n",
    "from matplotlib import rcParams\n",
    "import matplotlib.pyplot as plt\n",
    "import missingno as msno\n",
    "import seaborn as sns"
   ]
  },
  {
   "cell_type": "code",
   "execution_count": null,
   "metadata": {},
   "outputs": [
    {
     "data": {
      "text/plain": [
       "re.compile(r'<title>(.*)</title>', re.UNICODE)"
      ]
     },
     "execution_count": 647,
     "metadata": {},
     "output_type": "execute_result"
    }
   ],
   "source": [
    "re.compile('<title>(.*)</title>')"
   ]
  },
  {
   "cell_type": "code",
   "execution_count": null,
   "metadata": {},
   "outputs": [],
   "source": [
    "# data = pd.read_csv(\"gender_submission.csv\")\n",
    "data = pd.read_csv(\"train.csv\")\n",
    "test = pd.read_csv(\"test.csv\")\n",
    "test_ids=test[\"PassengerId\"]\n",
    "df_train=pd.read_csv(\"train.csv\")\n",
    "df_test=pd.read_csv(\"test.csv\")\n",
    "# df_gender=pd.read_csv(\"gender_submission.csv\")\n",
    "\n",
    "\n",
    "def clean(data):\n",
    "    data=data.drop([\"Ticket\",\"Name\", \"PassengerId\",\"Cabin\"], axis=1)\n",
    "\n",
    "    cols=[\"SibSp\", \"Parch\", \"Fare\", \"Age\"]\n",
    "\n",
    "    for col in cols:\n",
    "        data[col].fillna(data[col].median(), inplace=True)\n",
    "    data.Embarked.fillna(\"U\", inplace=True)\n",
    "    return data \n",
    "data = clean(data)\n",
    "test = clean(test)\n"
   ]
  },
  {
   "cell_type": "code",
   "execution_count": null,
   "metadata": {},
   "outputs": [
    {
     "data": {
      "text/plain": [
       "<AxesSubplot: >"
      ]
     },
     "execution_count": 7,
     "metadata": {},
     "output_type": "execute_result"
    },
    {
     "data": {
      "image/png": "[encoded data removed]",
      "text/plain": [
       "<Figure size 2500x1000 with 3 Axes>"
      ]
     },
     "metadata": {},
     "output_type": "display_data"
    }
   ],
   "source": [
    "# missing_data=pd.read_csv(\"gender_submission.csv\"),pd.read_csv(\"train.csv\"),pd.read_csv(\"test.csv\")\n",
    "msno.bar(df_train)"
   ]
  },
  {
   "cell_type": "code",
   "execution_count": null,
   "metadata": {},
   "outputs": [
    {
     "name": "stderr",
     "output_type": "stream",
     "text": [
      "C:\\Users\\joeyp\\AppData\\Local\\Temp\\ipykernel_17668\\690592952.py:1: FutureWarning: The default value of numeric_only in DataFrame.corr is deprecated. In a future version, it will default to False. Select only valid columns or specify the value of numeric_only to silence this warning.\n",
      "  sns.heatmap(data.corr(), cmap=\"coolwarm\")\n"
     ]
    },
    {
     "data": {
      "text/plain": [
       "<AxesSubplot: >"
      ]
     },
     "execution_count": 8,
     "metadata": {},
     "output_type": "execute_result"
    },
    {
     "data": {
      "image/png": "[encoded data removed]",
      "text/plain": [
       "<Figure size 640x480 with 2 Axes>"
      ]
     },
     "metadata": {},
     "output_type": "display_data"
    }
   ],
   "source": [
    "sns.heatmap(data.corr(), cmap=\"coolwarm\")"
   ]
  },
  {
   "cell_type": "code",
   "execution_count": null,
   "metadata": {},
   "outputs": [
    {
     "data": {
      "text/html": [
       "<div>\n",
       "<style scoped>\n",
       "    .dataframe tbody tr th:only-of-type {\n",
       "        vertical-align: middle;\n",
       "    }\n",
       "\n",
       "    .dataframe tbody tr th {\n",
       "        vertical-align: top;\n",
       "    }\n",
       "\n",
       "    .dataframe thead th {\n",
       "        text-align: right;\n",
       "    }\n",
       "</style>\n",
       "<table border=\"1\" class=\"dataframe\">\n",
       "  <thead>\n",
       "    <tr style=\"text-align: right;\">\n",
       "      <th></th>\n",
       "      <th>Survived</th>\n",
       "      <th>Pclass</th>\n",
       "      <th>Age</th>\n",
       "      <th>SibSp</th>\n",
       "      <th>Parch</th>\n",
       "      <th>Fare</th>\n",
       "    </tr>\n",
       "  </thead>\n",
       "  <tbody>\n",
       "    <tr>\n",
       "      <th>count</th>\n",
       "      <td>891.000000</td>\n",
       "      <td>891.000000</td>\n",
       "      <td>891.000000</td>\n",
       "      <td>891.000000</td>\n",
       "      <td>891.000000</td>\n",
       "      <td>891.000000</td>\n",
       "    </tr>\n",
       "    <tr>\n",
       "      <th>mean</th>\n",
       "      <td>0.383838</td>\n",
       "      <td>2.308642</td>\n",
       "      <td>29.361582</td>\n",
       "      <td>0.523008</td>\n",
       "      <td>0.381594</td>\n",
       "      <td>32.204208</td>\n",
       "    </tr>\n",
       "    <tr>\n",
       "      <th>std</th>\n",
       "      <td>0.486592</td>\n",
       "      <td>0.836071</td>\n",
       "      <td>13.019697</td>\n",
       "      <td>1.102743</td>\n",
       "      <td>0.806057</td>\n",
       "      <td>49.693429</td>\n",
       "    </tr>\n",
       "    <tr>\n",
       "      <th>min</th>\n",
       "      <td>0.000000</td>\n",
       "      <td>1.000000</td>\n",
       "      <td>0.420000</td>\n",
       "      <td>0.000000</td>\n",
       "      <td>0.000000</td>\n",
       "      <td>0.000000</td>\n",
       "    </tr>\n",
       "    <tr>\n",
       "      <th>25%</th>\n",
       "      <td>0.000000</td>\n",
       "      <td>2.000000</td>\n",
       "      <td>22.000000</td>\n",
       "      <td>0.000000</td>\n",
       "      <td>0.000000</td>\n",
       "      <td>7.910400</td>\n",
       "    </tr>\n",
       "    <tr>\n",
       "      <th>50%</th>\n",
       "      <td>0.000000</td>\n",
       "      <td>3.000000</td>\n",
       "      <td>28.000000</td>\n",
       "      <td>0.000000</td>\n",
       "      <td>0.000000</td>\n",
       "      <td>14.454200</td>\n",
       "    </tr>\n",
       "    <tr>\n",
       "      <th>75%</th>\n",
       "      <td>1.000000</td>\n",
       "      <td>3.000000</td>\n",
       "      <td>35.000000</td>\n",
       "      <td>1.000000</td>\n",
       "      <td>0.000000</td>\n",
       "      <td>31.000000</td>\n",
       "    </tr>\n",
       "    <tr>\n",
       "      <th>max</th>\n",
       "      <td>1.000000</td>\n",
       "      <td>3.000000</td>\n",
       "      <td>80.000000</td>\n",
       "      <td>8.000000</td>\n",
       "      <td>6.000000</td>\n",
       "      <td>512.329200</td>\n",
       "    </tr>\n",
       "  </tbody>\n",
       "</table>\n",
       "</div>"
      ],
      "text/plain": [
       "         Survived      Pclass         Age       SibSp       Parch        Fare\n",
       "count  891.000000  891.000000  891.000000  891.000000  891.000000  891.000000\n",
       "mean     0.383838    2.308642   29.361582    0.523008    0.381594   32.204208\n",
       "std      0.486592    0.836071   13.019697    1.102743    0.806057   49.693429\n",
       "min      0.000000    1.000000    0.420000    0.000000    0.000000    0.000000\n",
       "25%      0.000000    2.000000   22.000000    0.000000    0.000000    7.910400\n",
       "50%      0.000000    3.000000   28.000000    0.000000    0.000000   14.454200\n",
       "75%      1.000000    3.000000   35.000000    1.000000    0.000000   31.000000\n",
       "max      1.000000    3.000000   80.000000    8.000000    6.000000  512.329200"
      ]
     },
     "execution_count": 9,
     "metadata": {},
     "output_type": "execute_result"
    }
   ],
   "source": [
    "data.describe()"
   ]
  },
  {
   "cell_type": "code",
   "execution_count": null,
   "metadata": {},
   "outputs": [
    {
     "data": {
      "text/plain": [
       "male      577\n",
       "female    314\n",
       "Name: Sex, dtype: int64"
      ]
     },
     "execution_count": 10,
     "metadata": {},
     "output_type": "execute_result"
    }
   ],
   "source": [
    "data[\"Sex\"].value_counts()"
   ]
  },
  {
   "cell_type": "code",
   "execution_count": null,
   "metadata": {},
   "outputs": [
    {
     "data": {
      "text/plain": [
       "<AxesSubplot: xlabel='Sex', ylabel='count'>"
      ]
     },
     "execution_count": 11,
     "metadata": {},
     "output_type": "execute_result"
    },
    {
     "data": {
      "image/png": "[encoded data removed]",
      "text/plain": [
       "<Figure size 640x480 with 1 Axes>"
      ]
     },
     "metadata": {},
     "output_type": "display_data"
    }
   ],
   "source": [
    "sns.countplot(data, x=\"Sex\")"
   ]
  },
  {
   "cell_type": "code",
   "execution_count": null,
   "metadata": {},
   "outputs": [
    {
     "data": {
      "text/plain": [
       "<AxesSubplot: xlabel='Survived', ylabel='count'>"
      ]
     },
     "execution_count": 12,
     "metadata": {},
     "output_type": "execute_result"
    },
    {
     "data": {
      "image/png": "[encoded data removed]",
      "text/plain": [
       "<Figure size 640x480 with 1 Axes>"
      ]
     },
     "metadata": {},
     "output_type": "display_data"
    }
   ],
   "source": [
    "sns.countplot(data, x=\"Survived\")"
   ]
  },
  {
   "cell_type": "code",
   "execution_count": null,
   "metadata": {},
   "outputs": [
    {
     "data": {
      "text/plain": [
       "0    549\n",
       "1    342\n",
       "Name: Survived, dtype: int64"
      ]
     },
     "execution_count": 13,
     "metadata": {},
     "output_type": "execute_result"
    }
   ],
   "source": [
    "data[\"Survived\"].value_counts()\n"
   ]
  },
  {
   "cell_type": "code",
   "execution_count": null,
   "metadata": {},
   "outputs": [
    {
     "data": {
      "text/html": [
       "<div>\n",
       "<style scoped>\n",
       "    .dataframe tbody tr th:only-of-type {\n",
       "        vertical-align: middle;\n",
       "    }\n",
       "\n",
       "    .dataframe tbody tr th {\n",
       "        vertical-align: top;\n",
       "    }\n",
       "\n",
       "    .dataframe thead th {\n",
       "        text-align: right;\n",
       "    }\n",
       "</style>\n",
       "<table border=\"1\" class=\"dataframe\">\n",
       "  <thead>\n",
       "    <tr style=\"text-align: right;\">\n",
       "      <th></th>\n",
       "      <th>Survived</th>\n",
       "      <th>Pclass</th>\n",
       "      <th>Sex</th>\n",
       "      <th>Age</th>\n",
       "      <th>SibSp</th>\n",
       "      <th>Parch</th>\n",
       "      <th>Fare</th>\n",
       "      <th>Embarked</th>\n",
       "    </tr>\n",
       "  </thead>\n",
       "  <tbody>\n",
       "    <tr>\n",
       "      <th>0</th>\n",
       "      <td>0</td>\n",
       "      <td>3</td>\n",
       "      <td>male</td>\n",
       "      <td>22.0</td>\n",
       "      <td>1</td>\n",
       "      <td>0</td>\n",
       "      <td>7.2500</td>\n",
       "      <td>S</td>\n",
       "    </tr>\n",
       "    <tr>\n",
       "      <th>1</th>\n",
       "      <td>1</td>\n",
       "      <td>1</td>\n",
       "      <td>female</td>\n",
       "      <td>38.0</td>\n",
       "      <td>1</td>\n",
       "      <td>0</td>\n",
       "      <td>71.2833</td>\n",
       "      <td>C</td>\n",
       "    </tr>\n",
       "    <tr>\n",
       "      <th>2</th>\n",
       "      <td>1</td>\n",
       "      <td>3</td>\n",
       "      <td>female</td>\n",
       "      <td>26.0</td>\n",
       "      <td>0</td>\n",
       "      <td>0</td>\n",
       "      <td>7.9250</td>\n",
       "      <td>S</td>\n",
       "    </tr>\n",
       "    <tr>\n",
       "      <th>3</th>\n",
       "      <td>1</td>\n",
       "      <td>1</td>\n",
       "      <td>female</td>\n",
       "      <td>35.0</td>\n",
       "      <td>1</td>\n",
       "      <td>0</td>\n",
       "      <td>53.1000</td>\n",
       "      <td>S</td>\n",
       "    </tr>\n",
       "    <tr>\n",
       "      <th>4</th>\n",
       "      <td>0</td>\n",
       "      <td>3</td>\n",
       "      <td>male</td>\n",
       "      <td>35.0</td>\n",
       "      <td>0</td>\n",
       "      <td>0</td>\n",
       "      <td>8.0500</td>\n",
       "      <td>S</td>\n",
       "    </tr>\n",
       "  </tbody>\n",
       "</table>\n",
       "</div>"
      ],
      "text/plain": [
       "   Survived  Pclass     Sex   Age  SibSp  Parch     Fare Embarked\n",
       "0         0       3    male  22.0      1      0   7.2500        S\n",
       "1         1       1  female  38.0      1      0  71.2833        C\n",
       "2         1       3  female  26.0      0      0   7.9250        S\n",
       "3         1       1  female  35.0      1      0  53.1000        S\n",
       "4         0       3    male  35.0      0      0   8.0500        S"
      ]
     },
     "execution_count": 14,
     "metadata": {},
     "output_type": "execute_result"
    }
   ],
   "source": [
    "data.head(5)"
   ]
  },
  {
   "cell_type": "code",
   "execution_count": null,
   "metadata": {},
   "outputs": [
    {
     "data": {
      "text/plain": [
       "<AxesSubplot: xlabel='Survived', ylabel='count'>"
      ]
     },
     "execution_count": 15,
     "metadata": {},
     "output_type": "execute_result"
    },
    {
     "data": {
      "image/png": "[encoded data removed]",
      "text/plain": [
       "<Figure size 640x480 with 1 Axes>"
      ]
     },
     "metadata": {},
     "output_type": "display_data"
    }
   ],
   "source": [
    "sns.countplot(data,x=\"Survived\", hue=\"Pclass\")"
   ]
  },
  {
   "cell_type": "code",
   "execution_count": null,
   "metadata": {},
   "outputs": [
    {
     "data": {
      "text/plain": [
       "3    491\n",
       "1    216\n",
       "2    184\n",
       "Name: Pclass, dtype: int64"
      ]
     },
     "execution_count": 16,
     "metadata": {},
     "output_type": "execute_result"
    }
   ],
   "source": [
    "data[\"Pclass\"].value_counts()"
   ]
  },
  {
   "cell_type": "code",
   "execution_count": null,
   "metadata": {},
   "outputs": [
    {
     "data": {
      "text/plain": [
       "<AxesSubplot: xlabel='Survived', ylabel='count'>"
      ]
     },
     "execution_count": 17,
     "metadata": {},
     "output_type": "execute_result"
    },
    {
     "data": {
      "image/png": "[encoded data removed]",
      "text/plain": [
       "<Figure size 640x480 with 1 Axes>"
      ]
     },
     "metadata": {},
     "output_type": "display_data"
    }
   ],
   "source": [
    "sns.countplot(data, x=\"Survived\", hue=\"Embarked\")\n"
   ]
  },
  {
   "cell_type": "code",
   "execution_count": null,
   "metadata": {},
   "outputs": [
    {
     "data": {
      "text/plain": [
       "<seaborn.axisgrid.FacetGrid at 0x28f2ac55580>"
      ]
     },
     "execution_count": 18,
     "metadata": {},
     "output_type": "execute_result"
    },
    {
     "data": {
      "image/png": "[encoded data removed]",
      "text/plain": [
       "<Figure size 500x500 with 1 Axes>"
      ]
     },
     "metadata": {},
     "output_type": "display_data"
    }
   ],
   "source": [
    "sns.displot(data[\"Age\"])"
   ]
  },
  {
   "cell_type": "code",
   "execution_count": null,
   "metadata": {},
   "outputs": [
    {
     "data": {
      "image/png": "[encoded data removed]",
      "text/plain": [
       "<Figure size 600x500 with 1 Axes>"
      ]
     },
     "metadata": {},
     "output_type": "display_data"
    }
   ],
   "source": [
    "df_train[\"Title\"]=df_train[\"Name\"].apply(lambda x: re.search(' ([A-Z][a-z]+)\\.',x).group(1))\n",
    "plt.figure(figsize=(6,5))\n",
    "sns.countplot(x=\"Title\", data=df_train)\n",
    "plt.xlabel(\"Title\", fontsize=12)\n",
    "plt.ylabel(\"Count\", fontsize=12)\n",
    "plt.title(\"Title Name Count\", fontsize=20)\n",
    "plt.xticks(rotation=45)\n",
    "plt.show()\n"
   ]
  },
  {
   "cell_type": "code",
   "execution_count": null,
   "metadata": {},
   "outputs": [
    {
     "name": "stdout",
     "output_type": "stream",
     "text": [
      "Chance of survival based on status: \n",
      "Title\n",
      "Master     0.575000\n",
      "Mr         0.156673\n",
      "Mrs        0.795276\n",
      "Ms         0.701087\n",
      "Officer    0.277778\n",
      "Royalty    0.500000\n",
      "Name: Survived, dtype: float64\n"
     ]
    }
   ],
   "source": [
    "titles = df_train[\"Name\"].apply(lambda x: re.search(' ([A-Z][a-z]+)\\.',x).group(1))\n",
    "\n",
    "Title_Status = {\n",
    "    \"Capt\":\"Officer\", \n",
    "    \"Col\":\"Officer\",\n",
    "    \"Major\":\"Officer\",\n",
    "    \"Dr\":\"Officer\",\n",
    "    \"Rev\":\"Officer\", \n",
    "    \"Jonkheer\":\"Royalty\",\n",
    "    \"Don\":\"Royalty\",\n",
    "    \"Sir\":\"Royalty\",\n",
    "    \"Lady\":\"Royalty\",\n",
    "    \"the Countess\":\"Royalty\",\n",
    "    \"Dona\": \"Royalty\",\n",
    "    \"Mme\":\"Mrs\",\n",
    "    \"Ms\":\"Mrs\",\n",
    "    \"Mrs\":\"Mrs\",\n",
    "    \"Mlle\":\"Ms\",\n",
    "    \"Miss\":\"Ms\",\n",
    "    \"Mr\":\"Mr\",\n",
    "    \"Master\":\"Master\"\n",
    "}\n",
    "\n",
    "df_train[\"Title\"]=titles.map(Title_Status)\n",
    "\n",
    "print(\"Chance of survival based on status: \")\n",
    "print(df_train.groupby(\"Title\")[\"Survived\"].mean())\n",
    "\n",
    "\n"
   ]
  },
  {
   "cell_type": "code",
   "execution_count": null,
   "metadata": {},
   "outputs": [
    {
     "name": "stdout",
     "output_type": "stream",
     "text": [
      "% of women who survived: 0.7420382165605095\n"
     ]
    }
   ],
   "source": [
    "women = df_train.loc[df_train.Sex == 'female'][\"Survived\"]\n",
    "rate_women = sum(women)/len(women)\n",
    "\n",
    "print(\"% of women who survived:\", rate_women)\n"
   ]
  },
  {
   "cell_type": "code",
   "execution_count": null,
   "metadata": {},
   "outputs": [
    {
     "name": "stdout",
     "output_type": "stream",
     "text": [
      "% of men who survived: 0.18890814558058924\n"
     ]
    }
   ],
   "source": [
    "men = df_train.loc[df_train.Sex == 'male'][\"Survived\"]\n",
    "rate_men = sum(men)/len(men)\n",
    "\n",
    "print(\"% of men who survived:\", rate_men)"
   ]
  },
  {
   "cell_type": "code",
   "execution_count": 269,
   "metadata": {},
   "outputs": [
    {
     "name": "stdout",
     "output_type": "stream",
     "text": [
      "[0 1]\n",
      "[0 1 2 3]\n"
     ]
    },
    {
     "data": {
      "text/html": [
       "<div>\n",
       "<style scoped>\n",
       "    .dataframe tbody tr th:only-of-type {\n",
       "        vertical-align: middle;\n",
       "    }\n",
       "\n",
       "    .dataframe tbody tr th {\n",
       "        vertical-align: top;\n",
       "    }\n",
       "\n",
       "    .dataframe thead th {\n",
       "        text-align: right;\n",
       "    }\n",
       "</style>\n",
       "<table border=\"1\" class=\"dataframe\">\n",
       "  <thead>\n",
       "    <tr style=\"text-align: right;\">\n",
       "      <th></th>\n",
       "      <th>Survived</th>\n",
       "      <th>Pclass</th>\n",
       "      <th>Sex</th>\n",
       "      <th>Age</th>\n",
       "      <th>SibSp</th>\n",
       "      <th>Parch</th>\n",
       "      <th>Fare</th>\n",
       "      <th>Embarked</th>\n",
       "    </tr>\n",
       "  </thead>\n",
       "  <tbody>\n",
       "    <tr>\n",
       "      <th>0</th>\n",
       "      <td>0</td>\n",
       "      <td>3</td>\n",
       "      <td>1</td>\n",
       "      <td>22.0</td>\n",
       "      <td>1</td>\n",
       "      <td>0</td>\n",
       "      <td>7.2500</td>\n",
       "      <td>2</td>\n",
       "    </tr>\n",
       "    <tr>\n",
       "      <th>1</th>\n",
       "      <td>1</td>\n",
       "      <td>1</td>\n",
       "      <td>0</td>\n",
       "      <td>38.0</td>\n",
       "      <td>1</td>\n",
       "      <td>0</td>\n",
       "      <td>71.2833</td>\n",
       "      <td>0</td>\n",
       "    </tr>\n",
       "    <tr>\n",
       "      <th>2</th>\n",
       "      <td>1</td>\n",
       "      <td>3</td>\n",
       "      <td>0</td>\n",
       "      <td>26.0</td>\n",
       "      <td>0</td>\n",
       "      <td>0</td>\n",
       "      <td>7.9250</td>\n",
       "      <td>2</td>\n",
       "    </tr>\n",
       "    <tr>\n",
       "      <th>3</th>\n",
       "      <td>1</td>\n",
       "      <td>1</td>\n",
       "      <td>0</td>\n",
       "      <td>35.0</td>\n",
       "      <td>1</td>\n",
       "      <td>0</td>\n",
       "      <td>53.1000</td>\n",
       "      <td>2</td>\n",
       "    </tr>\n",
       "    <tr>\n",
       "      <th>4</th>\n",
       "      <td>0</td>\n",
       "      <td>3</td>\n",
       "      <td>1</td>\n",
       "      <td>35.0</td>\n",
       "      <td>0</td>\n",
       "      <td>0</td>\n",
       "      <td>8.0500</td>\n",
       "      <td>2</td>\n",
       "    </tr>\n",
       "  </tbody>\n",
       "</table>\n",
       "</div>"
      ],
      "text/plain": [
       "   Survived  Pclass  Sex   Age  SibSp  Parch     Fare  Embarked\n",
       "0         0       3    1  22.0      1      0   7.2500         2\n",
       "1         1       1    0  38.0      1      0  71.2833         0\n",
       "2         1       3    0  26.0      0      0   7.9250         2\n",
       "3         1       1    0  35.0      1      0  53.1000         2\n",
       "4         0       3    1  35.0      0      0   8.0500         2"
      ]
     },
     "execution_count": 269,
     "metadata": {},
     "output_type": "execute_result"
    }
   ],
   "source": [
    "from sklearn import preprocessing\n",
    "le = preprocessing.LabelEncoder()\n",
    "\n",
    "cols = [\"Sex\",\"Embarked\"]\n",
    "\n",
    "for col in cols:\n",
    "    data[col]=le.fit_transform(data[col])\n",
    "    test[col]=le.transform(test[col])\n",
    "    print(le.classes_)\n",
    "\n",
    "data.head(5)"
   ]
  },
  {
   "cell_type": "code",
   "execution_count": 270,
   "metadata": {},
   "outputs": [],
   "source": [
    "from sklearn.preprocessing import MinMaxScaler\n",
    "\n",
    "scaler = MinMaxScaler()\n",
    "\n",
    "for col in data.columns:\n",
    "    if col in ['Embarked', 'Sex']:\n",
    "        continue\n",
    "    # Fit the scaler to the column\n",
    "    scaler.fit(data[[col]])\n",
    "    # Transform the column using the scaler\n",
    "    data[col] = scaler.transform(data[[col]])\n",
    "\n",
    "for col in test.columns:\n",
    "    if col in ['Embarked', 'Sex']:\n",
    "        continue\n",
    "    # Fit the scaler to the column\n",
    "    scaler.fit(test[[col]])\n",
    "    # Transform the column using the scaler\n",
    "    test[col] = scaler.transform(test[[col]])\n"
   ]
  },
  {
   "cell_type": "code",
   "execution_count": 271,
   "metadata": {},
   "outputs": [],
   "source": [
    "from sklearn.linear_model import LogisticRegression\n",
    "from sklearn.model_selection import train_test_split\n",
    "\n",
    "y=data[\"Survived\"]\n",
    "x=data.drop(\"Survived\", axis=1)\n",
    "x_train, x_val, y_train, y_val = train_test_split(x, y, test_size=0.2, random_state=42)"
   ]
  },
  {
   "cell_type": "code",
   "execution_count": 396,
   "metadata": {},
   "outputs": [],
   "source": [
    "clf = LogisticRegression(random_state=0, max_iter=1000).fit(x_train, y_train)"
   ]
  },
  {
   "cell_type": "code",
   "execution_count": 395,
   "metadata": {},
   "outputs": [
    {
     "ename": "NameError",
     "evalue": "name 'clf' is not defined",
     "output_type": "error",
     "traceback": [
      "\u001b[1;31m---------------------------------------------------------------------------\u001b[0m",
      "\u001b[1;31mNameError\u001b[0m                                 Traceback (most recent call last)",
      "Cell \u001b[1;32mIn[395], line 3\u001b[0m\n\u001b[0;32m      1\u001b[0m \u001b[39mfrom\u001b[39;00m \u001b[39msklearn\u001b[39;00m\u001b[39m.\u001b[39;00m\u001b[39mmetrics\u001b[39;00m \u001b[39mimport\u001b[39;00m accuracy_score\n\u001b[1;32m----> 3\u001b[0m predictions\u001b[39m=\u001b[39mclf\u001b[39m.\u001b[39mpredict(x_val) \n\u001b[0;32m      4\u001b[0m accuracy_score(y_val, predictions)\n",
      "\u001b[1;31mNameError\u001b[0m: name 'clf' is not defined"
     ]
    }
   ],
   "source": [
    "from sklearn.metrics import accuracy_score\n",
    "\n",
    "predictions=clf.predict(x_val) \n",
    "accuracy_score(y_val, predictions)"
   ]
  },
  {
   "cell_type": "code",
   "execution_count": 397,
   "metadata": {},
   "outputs": [
    {
     "name": "stdout",
     "output_type": "stream",
     "text": [
      "(418,)\n"
     ]
    }
   ],
   "source": [
    "submission_preds=clf.predict(test)\n",
    "print(submission_preds.shape)"
   ]
  },
  {
   "cell_type": "code",
   "execution_count": null,
   "metadata": {},
   "outputs": [],
   "source": [
    "df=pd.DataFrame({\"PassengerId\":test_ids.values,\"Survived\":submission_preds,})"
   ]
  },
  {
   "cell_type": "code",
   "execution_count": null,
   "metadata": {},
   "outputs": [],
   "source": [
    "df.to_csv(\"submission.csv\", index=False)"
   ]
  },
  {
   "cell_type": "code",
   "execution_count": null,
   "metadata": {},
   "outputs": [
    {
     "data": {
      "text/html": [
       "<div>\n",
       "<style scoped>\n",
       "    .dataframe tbody tr th:only-of-type {\n",
       "        vertical-align: middle;\n",
       "    }\n",
       "\n",
       "    .dataframe tbody tr th {\n",
       "        vertical-align: top;\n",
       "    }\n",
       "\n",
       "    .dataframe thead th {\n",
       "        text-align: right;\n",
       "    }\n",
       "</style>\n",
       "<table border=\"1\" class=\"dataframe\">\n",
       "  <thead>\n",
       "    <tr style=\"text-align: right;\">\n",
       "      <th></th>\n",
       "      <th>PassengerId</th>\n",
       "      <th>Survived</th>\n",
       "      <th>Pclass</th>\n",
       "      <th>Name</th>\n",
       "      <th>Sex</th>\n",
       "      <th>Age</th>\n",
       "      <th>SibSp</th>\n",
       "      <th>Parch</th>\n",
       "      <th>Ticket</th>\n",
       "      <th>Fare</th>\n",
       "      <th>Cabin</th>\n",
       "      <th>Embarked</th>\n",
       "    </tr>\n",
       "  </thead>\n",
       "  <tbody>\n",
       "    <tr>\n",
       "      <th>0</th>\n",
       "      <td>1</td>\n",
       "      <td>0</td>\n",
       "      <td>3</td>\n",
       "      <td>Braund, Mr. Owen Harris</td>\n",
       "      <td>male</td>\n",
       "      <td>22.0</td>\n",
       "      <td>1</td>\n",
       "      <td>0</td>\n",
       "      <td>A/5 21171</td>\n",
       "      <td>7.2500</td>\n",
       "      <td>NaN</td>\n",
       "      <td>S</td>\n",
       "    </tr>\n",
       "    <tr>\n",
       "      <th>1</th>\n",
       "      <td>2</td>\n",
       "      <td>1</td>\n",
       "      <td>1</td>\n",
       "      <td>Cumings, Mrs. John Bradley (Florence Briggs Th...</td>\n",
       "      <td>female</td>\n",
       "      <td>38.0</td>\n",
       "      <td>1</td>\n",
       "      <td>0</td>\n",
       "      <td>PC 17599</td>\n",
       "      <td>71.2833</td>\n",
       "      <td>C85</td>\n",
       "      <td>C</td>\n",
       "    </tr>\n",
       "    <tr>\n",
       "      <th>2</th>\n",
       "      <td>3</td>\n",
       "      <td>1</td>\n",
       "      <td>3</td>\n",
       "      <td>Heikkinen, Miss. Laina</td>\n",
       "      <td>female</td>\n",
       "      <td>26.0</td>\n",
       "      <td>0</td>\n",
       "      <td>0</td>\n",
       "      <td>STON/O2. 3101282</td>\n",
       "      <td>7.9250</td>\n",
       "      <td>NaN</td>\n",
       "      <td>S</td>\n",
       "    </tr>\n",
       "    <tr>\n",
       "      <th>3</th>\n",
       "      <td>4</td>\n",
       "      <td>1</td>\n",
       "      <td>1</td>\n",
       "      <td>Futrelle, Mrs. Jacques Heath (Lily May Peel)</td>\n",
       "      <td>female</td>\n",
       "      <td>35.0</td>\n",
       "      <td>1</td>\n",
       "      <td>0</td>\n",
       "      <td>113803</td>\n",
       "      <td>53.1000</td>\n",
       "      <td>C123</td>\n",
       "      <td>S</td>\n",
       "    </tr>\n",
       "    <tr>\n",
       "      <th>4</th>\n",
       "      <td>5</td>\n",
       "      <td>0</td>\n",
       "      <td>3</td>\n",
       "      <td>Allen, Mr. William Henry</td>\n",
       "      <td>male</td>\n",
       "      <td>35.0</td>\n",
       "      <td>0</td>\n",
       "      <td>0</td>\n",
       "      <td>373450</td>\n",
       "      <td>8.0500</td>\n",
       "      <td>NaN</td>\n",
       "      <td>S</td>\n",
       "    </tr>\n",
       "  </tbody>\n",
       "</table>\n",
       "</div>"
      ],
      "text/plain": [
       "   PassengerId  Survived  Pclass  \\\n",
       "0            1         0       3   \n",
       "1            2         1       1   \n",
       "2            3         1       3   \n",
       "3            4         1       1   \n",
       "4            5         0       3   \n",
       "\n",
       "                                                Name     Sex   Age  SibSp  \\\n",
       "0                            Braund, Mr. Owen Harris    male  22.0      1   \n",
       "1  Cumings, Mrs. John Bradley (Florence Briggs Th...  female  38.0      1   \n",
       "2                             Heikkinen, Miss. Laina  female  26.0      0   \n",
       "3       Futrelle, Mrs. Jacques Heath (Lily May Peel)  female  35.0      1   \n",
       "4                           Allen, Mr. William Henry    male  35.0      0   \n",
       "\n",
       "   Parch            Ticket     Fare Cabin Embarked  \n",
       "0      0         A/5 21171   7.2500   NaN        S  \n",
       "1      0          PC 17599  71.2833   C85        C  \n",
       "2      0  STON/O2. 3101282   7.9250   NaN        S  \n",
       "3      0            113803  53.1000  C123        S  \n",
       "4      0            373450   8.0500   NaN        S  "
      ]
     },
     "execution_count": 233,
     "metadata": {},
     "output_type": "execute_result"
    }
   ],
   "source": [
    "train_data = pd.read_csv(\"train.csv\")\n",
    "train_data.head(5)"
   ]
  },
  {
   "cell_type": "code",
   "execution_count": 405,
   "metadata": {},
   "outputs": [
    {
     "name": "stdout",
     "output_type": "stream",
     "text": [
      "Epoch 1/100\n",
      "48/48 [==============================] - 3s 5ms/step - loss: 0.6699 - accuracy: 0.5843\n",
      "Epoch 2/100\n",
      "48/48 [==============================] - 0s 4ms/step - loss: 0.5763 - accuracy: 0.6376\n",
      "Epoch 3/100\n",
      "48/48 [==============================] - 0s 5ms/step - loss: 0.5338 - accuracy: 0.7739\n",
      "Epoch 4/100\n",
      "48/48 [==============================] - 0s 4ms/step - loss: 0.5047 - accuracy: 0.7921\n",
      "Epoch 5/100\n",
      "48/48 [==============================] - 0s 5ms/step - loss: 0.4845 - accuracy: 0.7978\n",
      "Epoch 6/100\n",
      "48/48 [==============================] - 0s 5ms/step - loss: 0.4712 - accuracy: 0.7935\n",
      "Epoch 7/100\n",
      "48/48 [==============================] - 0s 6ms/step - loss: 0.4640 - accuracy: 0.7992\n",
      "Epoch 8/100\n",
      "48/48 [==============================] - 0s 4ms/step - loss: 0.4563 - accuracy: 0.7978\n",
      "Epoch 9/100\n",
      "48/48 [==============================] - 0s 5ms/step - loss: 0.4504 - accuracy: 0.8090\n",
      "Epoch 10/100\n",
      "48/48 [==============================] - 0s 5ms/step - loss: 0.4472 - accuracy: 0.8020\n",
      "Epoch 11/100\n",
      "48/48 [==============================] - 0s 4ms/step - loss: 0.4452 - accuracy: 0.8076\n",
      "Epoch 12/100\n",
      "48/48 [==============================] - 0s 4ms/step - loss: 0.4401 - accuracy: 0.8146\n",
      "Epoch 13/100\n",
      "48/48 [==============================] - 0s 3ms/step - loss: 0.4383 - accuracy: 0.8020\n",
      "Epoch 14/100\n",
      "48/48 [==============================] - 0s 4ms/step - loss: 0.4350 - accuracy: 0.8174\n",
      "Epoch 15/100\n",
      "48/48 [==============================] - 0s 3ms/step - loss: 0.4350 - accuracy: 0.8104\n",
      "Epoch 16/100\n",
      "48/48 [==============================] - 0s 3ms/step - loss: 0.4346 - accuracy: 0.8174\n",
      "Epoch 17/100\n",
      "48/48 [==============================] - 0s 5ms/step - loss: 0.4330 - accuracy: 0.8174\n",
      "Epoch 18/100\n",
      "48/48 [==============================] - 0s 6ms/step - loss: 0.4292 - accuracy: 0.8118\n",
      "Epoch 19/100\n",
      "48/48 [==============================] - 0s 6ms/step - loss: 0.4288 - accuracy: 0.8188\n",
      "Epoch 20/100\n",
      "48/48 [==============================] - 0s 7ms/step - loss: 0.4283 - accuracy: 0.8132\n",
      "Epoch 21/100\n",
      "48/48 [==============================] - 0s 7ms/step - loss: 0.4261 - accuracy: 0.8174\n",
      "Epoch 22/100\n",
      "48/48 [==============================] - 0s 5ms/step - loss: 0.4253 - accuracy: 0.8118\n",
      "Epoch 23/100\n",
      "48/48 [==============================] - 0s 5ms/step - loss: 0.4261 - accuracy: 0.8174\n",
      "Epoch 24/100\n",
      "48/48 [==============================] - 0s 5ms/step - loss: 0.4254 - accuracy: 0.8104\n",
      "Epoch 25/100\n",
      "48/48 [==============================] - 0s 4ms/step - loss: 0.4258 - accuracy: 0.8202\n",
      "Epoch 26/100\n",
      "48/48 [==============================] - 0s 5ms/step - loss: 0.4260 - accuracy: 0.8118\n",
      "Epoch 27/100\n",
      "48/48 [==============================] - 0s 5ms/step - loss: 0.4237 - accuracy: 0.8160\n",
      "Epoch 28/100\n",
      "48/48 [==============================] - 0s 5ms/step - loss: 0.4232 - accuracy: 0.8146\n",
      "Epoch 29/100\n",
      "48/48 [==============================] - 0s 6ms/step - loss: 0.4220 - accuracy: 0.8132\n",
      "Epoch 30/100\n",
      "48/48 [==============================] - 0s 5ms/step - loss: 0.4223 - accuracy: 0.8160\n",
      "Epoch 31/100\n",
      "48/48 [==============================] - 0s 5ms/step - loss: 0.4181 - accuracy: 0.8202\n",
      "Epoch 32/100\n",
      "48/48 [==============================] - 0s 6ms/step - loss: 0.4172 - accuracy: 0.8132\n",
      "Epoch 33/100\n",
      "48/48 [==============================] - 0s 5ms/step - loss: 0.4202 - accuracy: 0.8174\n",
      "Epoch 34/100\n",
      "48/48 [==============================] - 0s 6ms/step - loss: 0.4184 - accuracy: 0.8146\n",
      "Epoch 35/100\n",
      "48/48 [==============================] - 0s 3ms/step - loss: 0.4166 - accuracy: 0.8188\n",
      "Epoch 36/100\n",
      "48/48 [==============================] - 0s 3ms/step - loss: 0.4186 - accuracy: 0.8132\n",
      "Epoch 37/100\n",
      "48/48 [==============================] - 0s 3ms/step - loss: 0.4206 - accuracy: 0.8174\n",
      "Epoch 38/100\n",
      "48/48 [==============================] - 0s 5ms/step - loss: 0.4181 - accuracy: 0.8160\n",
      "Epoch 39/100\n",
      "48/48 [==============================] - 0s 7ms/step - loss: 0.4157 - accuracy: 0.8174\n",
      "Epoch 40/100\n",
      "48/48 [==============================] - 0s 7ms/step - loss: 0.4168 - accuracy: 0.8188\n",
      "Epoch 41/100\n",
      "48/48 [==============================] - 0s 6ms/step - loss: 0.4144 - accuracy: 0.8174\n",
      "Epoch 42/100\n",
      "48/48 [==============================] - 0s 7ms/step - loss: 0.4135 - accuracy: 0.8216\n",
      "Epoch 43/100\n",
      "48/48 [==============================] - 0s 7ms/step - loss: 0.4144 - accuracy: 0.8118\n",
      "Epoch 44/100\n",
      "48/48 [==============================] - 0s 6ms/step - loss: 0.4139 - accuracy: 0.8202\n",
      "Epoch 45/100\n",
      "48/48 [==============================] - 0s 6ms/step - loss: 0.4131 - accuracy: 0.8202\n",
      "Epoch 46/100\n",
      "48/48 [==============================] - 0s 6ms/step - loss: 0.4152 - accuracy: 0.8146\n",
      "Epoch 47/100\n",
      "48/48 [==============================] - 0s 7ms/step - loss: 0.4135 - accuracy: 0.8216\n",
      "Epoch 48/100\n",
      "48/48 [==============================] - 0s 7ms/step - loss: 0.4116 - accuracy: 0.8188\n",
      "Epoch 49/100\n",
      "48/48 [==============================] - 0s 7ms/step - loss: 0.4099 - accuracy: 0.8230\n",
      "Epoch 50/100\n",
      "48/48 [==============================] - 0s 7ms/step - loss: 0.4117 - accuracy: 0.8188\n",
      "Epoch 51/100\n",
      "48/48 [==============================] - 0s 7ms/step - loss: 0.4084 - accuracy: 0.8146\n",
      "Epoch 52/100\n",
      "48/48 [==============================] - 0s 6ms/step - loss: 0.4084 - accuracy: 0.8287\n",
      "Epoch 53/100\n",
      "48/48 [==============================] - 0s 6ms/step - loss: 0.4096 - accuracy: 0.8230\n",
      "Epoch 54/100\n",
      "48/48 [==============================] - 0s 6ms/step - loss: 0.4074 - accuracy: 0.8272\n",
      "Epoch 55/100\n",
      "48/48 [==============================] - 0s 7ms/step - loss: 0.4075 - accuracy: 0.8258\n",
      "Epoch 56/100\n",
      "48/48 [==============================] - 0s 6ms/step - loss: 0.4104 - accuracy: 0.8301\n",
      "Epoch 57/100\n",
      "48/48 [==============================] - 0s 7ms/step - loss: 0.4086 - accuracy: 0.8258\n",
      "Epoch 58/100\n",
      "48/48 [==============================] - 0s 7ms/step - loss: 0.4051 - accuracy: 0.8287\n",
      "Epoch 59/100\n",
      "48/48 [==============================] - 0s 6ms/step - loss: 0.4065 - accuracy: 0.8272\n",
      "Epoch 60/100\n",
      "48/48 [==============================] - 0s 7ms/step - loss: 0.4057 - accuracy: 0.8287\n",
      "Epoch 61/100\n",
      "48/48 [==============================] - 0s 6ms/step - loss: 0.4017 - accuracy: 0.8287\n",
      "Epoch 62/100\n",
      "48/48 [==============================] - 0s 6ms/step - loss: 0.4078 - accuracy: 0.8230\n",
      "Epoch 63/100\n",
      "48/48 [==============================] - 0s 7ms/step - loss: 0.4030 - accuracy: 0.8343\n",
      "Epoch 64/100\n",
      "48/48 [==============================] - 0s 6ms/step - loss: 0.4040 - accuracy: 0.8230\n",
      "Epoch 65/100\n",
      "48/48 [==============================] - 0s 7ms/step - loss: 0.4028 - accuracy: 0.8272\n",
      "Epoch 66/100\n",
      "48/48 [==============================] - 0s 6ms/step - loss: 0.4038 - accuracy: 0.8357\n",
      "Epoch 67/100\n",
      "48/48 [==============================] - 0s 7ms/step - loss: 0.4011 - accuracy: 0.8244\n",
      "Epoch 68/100\n",
      "48/48 [==============================] - 0s 7ms/step - loss: 0.4007 - accuracy: 0.8287\n",
      "Epoch 69/100\n",
      "48/48 [==============================] - 0s 7ms/step - loss: 0.4002 - accuracy: 0.8315\n",
      "Epoch 70/100\n",
      "48/48 [==============================] - 0s 7ms/step - loss: 0.4011 - accuracy: 0.8287\n",
      "Epoch 71/100\n",
      "48/48 [==============================] - 0s 6ms/step - loss: 0.4001 - accuracy: 0.8315\n",
      "Epoch 72/100\n",
      "48/48 [==============================] - 0s 6ms/step - loss: 0.3984 - accuracy: 0.8301\n",
      "Epoch 73/100\n",
      "48/48 [==============================] - 0s 7ms/step - loss: 0.4020 - accuracy: 0.8301\n",
      "Epoch 74/100\n",
      "48/48 [==============================] - 0s 7ms/step - loss: 0.3996 - accuracy: 0.8329\n",
      "Epoch 75/100\n",
      "48/48 [==============================] - 0s 7ms/step - loss: 0.3987 - accuracy: 0.8287\n",
      "Epoch 76/100\n",
      "48/48 [==============================] - 0s 2ms/step - loss: 0.3982 - accuracy: 0.8301\n",
      "Epoch 77/100\n",
      "48/48 [==============================] - 0s 5ms/step - loss: 0.3969 - accuracy: 0.8329\n",
      "Epoch 78/100\n",
      "48/48 [==============================] - 0s 7ms/step - loss: 0.3951 - accuracy: 0.8315\n",
      "Epoch 79/100\n",
      "48/48 [==============================] - 0s 6ms/step - loss: 0.3978 - accuracy: 0.8301\n",
      "Epoch 80/100\n",
      "48/48 [==============================] - 0s 6ms/step - loss: 0.3970 - accuracy: 0.8287\n",
      "Epoch 81/100\n",
      "48/48 [==============================] - 0s 7ms/step - loss: 0.3944 - accuracy: 0.8315\n",
      "Epoch 82/100\n",
      "48/48 [==============================] - 0s 7ms/step - loss: 0.3941 - accuracy: 0.8371\n",
      "Epoch 83/100\n",
      "48/48 [==============================] - 0s 5ms/step - loss: 0.3946 - accuracy: 0.8272\n",
      "Epoch 84/100\n",
      "48/48 [==============================] - 0s 6ms/step - loss: 0.3956 - accuracy: 0.8357\n",
      "Epoch 85/100\n",
      "48/48 [==============================] - 0s 7ms/step - loss: 0.3951 - accuracy: 0.8287\n",
      "Epoch 86/100\n",
      "48/48 [==============================] - 0s 7ms/step - loss: 0.3943 - accuracy: 0.8357\n",
      "Epoch 87/100\n",
      "48/48 [==============================] - 0s 6ms/step - loss: 0.3966 - accuracy: 0.8343\n",
      "Epoch 88/100\n",
      "48/48 [==============================] - 0s 7ms/step - loss: 0.3944 - accuracy: 0.8315\n",
      "Epoch 89/100\n",
      "48/48 [==============================] - 0s 6ms/step - loss: 0.3951 - accuracy: 0.8301\n",
      "Epoch 90/100\n",
      "48/48 [==============================] - 0s 7ms/step - loss: 0.3948 - accuracy: 0.8272\n",
      "Epoch 91/100\n",
      "48/48 [==============================] - 0s 6ms/step - loss: 0.3935 - accuracy: 0.8301\n",
      "Epoch 92/100\n",
      "48/48 [==============================] - 0s 6ms/step - loss: 0.3911 - accuracy: 0.8329\n",
      "Epoch 93/100\n",
      "48/48 [==============================] - 0s 6ms/step - loss: 0.3905 - accuracy: 0.8315\n",
      "Epoch 94/100\n",
      "48/48 [==============================] - 0s 7ms/step - loss: 0.3932 - accuracy: 0.8315\n",
      "Epoch 95/100\n",
      "48/48 [==============================] - 0s 6ms/step - loss: 0.3911 - accuracy: 0.8301\n",
      "Epoch 96/100\n",
      "48/48 [==============================] - 0s 6ms/step - loss: 0.3929 - accuracy: 0.8315\n",
      "Epoch 97/100\n",
      "48/48 [==============================] - 0s 6ms/step - loss: 0.3934 - accuracy: 0.8385\n",
      "Epoch 98/100\n",
      "48/48 [==============================] - 0s 7ms/step - loss: 0.3910 - accuracy: 0.8371\n",
      "Epoch 99/100\n",
      "48/48 [==============================] - 0s 6ms/step - loss: 0.3896 - accuracy: 0.8357\n",
      "Epoch 100/100\n",
      "48/48 [==============================] - 0s 6ms/step - loss: 0.3880 - accuracy: 0.8329\n"
     ]
    },
    {
     "data": {
      "text/plain": [
       "<keras.callbacks.History at 0x28f590cef10>"
      ]
     },
     "execution_count": 405,
     "metadata": {},
     "output_type": "execute_result"
    }
   ],
   "source": [
    "import tensorflow as tf\n",
    "from tensorflow import keras\n",
    "import numpy as np\n",
    "\n",
    "num_params = len(test.columns)\n",
    "model = tf.keras.models.Sequential()\n",
    "\n",
    "model.add(tf.keras.layers.Flatten(input_shape=(num_params, )))\n",
    "model.add(tf.keras.layers.Dense(32, activation='relu'))\n",
    "model.add(tf.keras.layers.Dense(32, activation='relu'))\n",
    "model.add(tf.keras.layers.Dense(1, activation='sigmoid'))\n",
    "\n",
    "# compile the model\n",
    "model.compile(optimizer=\"adam\", loss=\"binary_crossentropy\", metrics=[\"accuracy\"])\n",
    "\n",
    "# train the model\n",
    "model.fit(x_train, y_train, epochs=100, batch_size=15)\n"
   ]
  },
  {
   "cell_type": "code",
   "execution_count": 406,
   "metadata": {},
   "outputs": [
    {
     "name": "stdout",
     "output_type": "stream",
     "text": [
      "6/6 [==============================] - 0s 2ms/step\n",
      "0.8156424581005587\n"
     ]
    }
   ],
   "source": [
    "val_predictions = model.predict(x_val)\n",
    "val_predictions = val_predictions.round()\n",
    "\n",
    "correct = 0\n",
    "for i in range(len(y_val)):\n",
    "    if y_val.iloc[i] == val_predictions[i]:\n",
    "        correct += 1\n",
    "accuracy = correct / len(y_val)\n",
    "\n",
    "print(accuracy)"
   ]
  },
  {
   "cell_type": "code",
   "execution_count": 407,
   "metadata": {},
   "outputs": [
    {
     "name": "stdout",
     "output_type": "stream",
     "text": [
      "14/14 [==============================] - 0s 2ms/step\n"
     ]
    }
   ],
   "source": [
    "\n",
    "surivival_prediction = model.predict(test)\n",
    "\n",
    "surivival_prediction = surivival_prediction.round()\n",
    "df = pd.DataFrame({\"PassengerId\":test_ids.values,\"Survived\":tf.reshape(surivival_prediction, [-1])})\n",
    "df.to_csv(\"submission.csv\", index=False)"
   ]
  }
 ],
 "metadata": {
  "kernelspec": {
   "display_name": "Python 3",
   "language": "python",
   "name": "python3"
  },
  "language_info": {
   "codemirror_mode": {
    "name": "ipython",
    "version": 3
   },
   "file_extension": ".py",
   "mimetype": "text/x-python",
   "name": "python",
   "nbconvert_exporter": "python",
   "pygments_lexer": "ipython3",
   "version": "3.8.10"
  },
  "orig_nbformat": 4,
  "vscode": {
   "interpreter": {
    "hash": "2f2911d95247e1b7fafb6c6a727e83547a5de41b3dad86c8ba98c13c162cb6b7"
   }
  }
 },
 "nbformat": 4,
 "nbformat_minor": 2
}
